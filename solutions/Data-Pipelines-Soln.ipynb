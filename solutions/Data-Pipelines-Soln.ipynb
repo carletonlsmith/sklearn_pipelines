{
 "cells": [
  {
   "cell_type": "markdown",
   "metadata": {},
   "source": [
    "# `scikit-learn` Pipelines\n",
    " \n",
    "_Author: Carleton Smith_"
   ]
  },
  {
   "cell_type": "markdown",
   "metadata": {},
   "source": [
    "<a id=\"learning-objectives\"></a>\n",
    "# Learning Objectives\n",
    "- Review EDA and preprocessing in pandas\n",
    "- Build a preprocessing pipeline in sklearn"
   ]
  },
  {
   "cell_type": "markdown",
   "metadata": {},
   "source": [
    "<a id=\"top\"></a>\n",
    "# Lesson Guide\n",
    "- [Acquire Data](#acquire)\n",
    "- [Sklearn Pipelines](#pipelines)\n",
    "- [Exploratory Data Analysis](#explore)\n",
    "- [Preprocessing Pipeline](#preprocess)\n",
    "- [Model Building](#modeling)"
   ]
  },
  {
   "cell_type": "code",
   "execution_count": 2,
   "metadata": {},
   "outputs": [],
   "source": [
    "# imports\n",
    "import numpy as np\n",
    "import pandas as pd\n",
    "import matplotlib.pyplot as plt\n",
    "import seaborn as sns\n",
    "%matplotlib inline"
   ]
  },
  {
   "cell_type": "code",
   "execution_count": 3,
   "metadata": {},
   "outputs": [],
   "source": [
    "def warn(*args, **kwargs):\n",
    "    pass\n",
    "import warnings\n",
    "warnings.warn = warn"
   ]
  },
  {
   "cell_type": "markdown",
   "metadata": {},
   "source": [
    "<a id=\"acquire\"></a>\n",
    "# Acquire Data\n",
    "\n",
    "For this lessons, we will use the \"Census Income\" dataset, provided by the UCI Machine Learning Repository.\n",
    "\n",
    "**Link**: https://archive.ics.uci.edu/ml/datasets/Adult\n",
    "\n",
    "Our goal will be to predict if an individual's income exceeds \\$50k per year based on census data.\n",
    "\n",
    "\n",
    "**FEATURES**\n",
    "\n",
    "1. `age`: continuous.\n",
    "2. `workclass`: Private, Self-emp-not-inc, Self-emp-inc, Federal-gov, Local-gov, State-gov, Without-pay, Never-worked.\n",
    "3. `fnlwgt`: continuous.\n",
    "4. `education`: Bachelors, Some-college, 11th, HS-grad, Prof-school, Assoc-acdm, Assoc-voc, 9th, 7th-8th, 12th, Masters, 1st-4th, 10th, Doctorate, 5th-6th, Preschool.\n",
    "5. `education-num`: continuous.\n",
    "6. `marital-status`: Married-civ-spouse, Divorced, Never-married, Separated, Widowed, Married-spouse-absent, Married-AF-spouse.\n",
    "7. `occupation`: Tech-support, Craft-repair, Other-service, Sales, Exec-managerial, Prof-specialty, Handlers-cleaners, Machine-op-inspct, Adm-clerical, Farming-fishing, Transport-moving, Priv-house-serv, Protective-serv, Armed-Forces.\n",
    "relationship: Wife, Own-child, Husband, Not-in-family, Other-relative, Unmarried.\n",
    "8. `race`: White, Asian-Pac-Islander, Amer-Indian-Eskimo, Other, Black.\n",
    "9. `sex`: Female, Male.\n",
    "10. `capital-gain`: continuous.\n",
    "11. `capital-loss`: continuous.\n",
    "12. `hours-per-week`: continuous.\n",
    "13. `native-country`: United-States, Cambodia, England, Puerto-Rico, Canada, Germany, Outlying-US(Guam-USVI-etc), India, Japan, Greece, South, China, Cuba, Iran, Honduras, Philippines, Italy, Poland, Jamaica, Vietnam, Mexico, Portugal, Ireland, France, Dominican-Republic, Laos, Ecuador, Taiwan, Haiti, Columbia, Hungary, Guatemala, Nicaragua, Scotland, Thailand, Yugoslavia, El-Salvador, Trinadad&Tobago, Peru, Hong, Holand-Netherlands.\n",
    "\n"
   ]
  },
  {
   "cell_type": "code",
   "execution_count": 4,
   "metadata": {},
   "outputs": [
    {
     "data": {
      "text/html": [
       "<div>\n",
       "<style scoped>\n",
       "    .dataframe tbody tr th:only-of-type {\n",
       "        vertical-align: middle;\n",
       "    }\n",
       "\n",
       "    .dataframe tbody tr th {\n",
       "        vertical-align: top;\n",
       "    }\n",
       "\n",
       "    .dataframe thead th {\n",
       "        text-align: right;\n",
       "    }\n",
       "</style>\n",
       "<table border=\"1\" class=\"dataframe\">\n",
       "  <thead>\n",
       "    <tr style=\"text-align: right;\">\n",
       "      <th></th>\n",
       "      <th>0</th>\n",
       "      <th>1</th>\n",
       "      <th>2</th>\n",
       "      <th>3</th>\n",
       "      <th>4</th>\n",
       "      <th>5</th>\n",
       "      <th>6</th>\n",
       "      <th>7</th>\n",
       "      <th>8</th>\n",
       "      <th>9</th>\n",
       "      <th>10</th>\n",
       "      <th>11</th>\n",
       "      <th>12</th>\n",
       "      <th>13</th>\n",
       "      <th>14</th>\n",
       "    </tr>\n",
       "  </thead>\n",
       "  <tbody>\n",
       "    <tr>\n",
       "      <th>0</th>\n",
       "      <td>39</td>\n",
       "      <td>State-gov</td>\n",
       "      <td>77516</td>\n",
       "      <td>Bachelors</td>\n",
       "      <td>13</td>\n",
       "      <td>Never-married</td>\n",
       "      <td>Adm-clerical</td>\n",
       "      <td>Not-in-family</td>\n",
       "      <td>White</td>\n",
       "      <td>Male</td>\n",
       "      <td>2174</td>\n",
       "      <td>0</td>\n",
       "      <td>40</td>\n",
       "      <td>United-States</td>\n",
       "      <td>&lt;=50K</td>\n",
       "    </tr>\n",
       "    <tr>\n",
       "      <th>1</th>\n",
       "      <td>50</td>\n",
       "      <td>Self-emp-not-inc</td>\n",
       "      <td>83311</td>\n",
       "      <td>Bachelors</td>\n",
       "      <td>13</td>\n",
       "      <td>Married-civ-spouse</td>\n",
       "      <td>Exec-managerial</td>\n",
       "      <td>Husband</td>\n",
       "      <td>White</td>\n",
       "      <td>Male</td>\n",
       "      <td>0</td>\n",
       "      <td>0</td>\n",
       "      <td>13</td>\n",
       "      <td>United-States</td>\n",
       "      <td>&lt;=50K</td>\n",
       "    </tr>\n",
       "    <tr>\n",
       "      <th>2</th>\n",
       "      <td>38</td>\n",
       "      <td>Private</td>\n",
       "      <td>215646</td>\n",
       "      <td>HS-grad</td>\n",
       "      <td>9</td>\n",
       "      <td>Divorced</td>\n",
       "      <td>Handlers-cleaners</td>\n",
       "      <td>Not-in-family</td>\n",
       "      <td>White</td>\n",
       "      <td>Male</td>\n",
       "      <td>0</td>\n",
       "      <td>0</td>\n",
       "      <td>40</td>\n",
       "      <td>United-States</td>\n",
       "      <td>&lt;=50K</td>\n",
       "    </tr>\n",
       "    <tr>\n",
       "      <th>3</th>\n",
       "      <td>53</td>\n",
       "      <td>Private</td>\n",
       "      <td>234721</td>\n",
       "      <td>11th</td>\n",
       "      <td>7</td>\n",
       "      <td>Married-civ-spouse</td>\n",
       "      <td>Handlers-cleaners</td>\n",
       "      <td>Husband</td>\n",
       "      <td>Black</td>\n",
       "      <td>Male</td>\n",
       "      <td>0</td>\n",
       "      <td>0</td>\n",
       "      <td>40</td>\n",
       "      <td>United-States</td>\n",
       "      <td>&lt;=50K</td>\n",
       "    </tr>\n",
       "    <tr>\n",
       "      <th>4</th>\n",
       "      <td>28</td>\n",
       "      <td>Private</td>\n",
       "      <td>338409</td>\n",
       "      <td>Bachelors</td>\n",
       "      <td>13</td>\n",
       "      <td>Married-civ-spouse</td>\n",
       "      <td>Prof-specialty</td>\n",
       "      <td>Wife</td>\n",
       "      <td>Black</td>\n",
       "      <td>Female</td>\n",
       "      <td>0</td>\n",
       "      <td>0</td>\n",
       "      <td>40</td>\n",
       "      <td>Cuba</td>\n",
       "      <td>&lt;=50K</td>\n",
       "    </tr>\n",
       "  </tbody>\n",
       "</table>\n",
       "</div>"
      ],
      "text/plain": [
       "   0                  1       2           3   4                    5   \\\n",
       "0  39          State-gov   77516   Bachelors  13        Never-married   \n",
       "1  50   Self-emp-not-inc   83311   Bachelors  13   Married-civ-spouse   \n",
       "2  38            Private  215646     HS-grad   9             Divorced   \n",
       "3  53            Private  234721        11th   7   Married-civ-spouse   \n",
       "4  28            Private  338409   Bachelors  13   Married-civ-spouse   \n",
       "\n",
       "                   6               7       8        9     10  11  12  \\\n",
       "0        Adm-clerical   Not-in-family   White     Male  2174   0  40   \n",
       "1     Exec-managerial         Husband   White     Male     0   0  13   \n",
       "2   Handlers-cleaners   Not-in-family   White     Male     0   0  40   \n",
       "3   Handlers-cleaners         Husband   Black     Male     0   0  40   \n",
       "4      Prof-specialty            Wife   Black   Female     0   0  40   \n",
       "\n",
       "               13      14  \n",
       "0   United-States   <=50K  \n",
       "1   United-States   <=50K  \n",
       "2   United-States   <=50K  \n",
       "3   United-States   <=50K  \n",
       "4            Cuba   <=50K  "
      ]
     },
     "execution_count": 4,
     "metadata": {},
     "output_type": "execute_result"
    }
   ],
   "source": [
    "adult = pd.read_csv('../datasets/adult.data.txt', na_values= ' ?', header=None)\n",
    "adult.head()"
   ]
  },
  {
   "cell_type": "code",
   "execution_count": 5,
   "metadata": {},
   "outputs": [],
   "source": [
    "features = [\n",
    "    'age',\n",
    "    'workclass',\n",
    "    'fnlwgt',\n",
    "    'education',\n",
    "    'education_num',\n",
    "    'marital_status',\n",
    "    'occupation',\n",
    "    'relationship',\n",
    "    'race',\n",
    "    'sex',\n",
    "    'capital_gain',\n",
    "    'capital_loss',\n",
    "    'hours_per_week',\n",
    "    'native_country',\n",
    "    'income',\n",
    "]"
   ]
  },
  {
   "cell_type": "markdown",
   "metadata": {},
   "source": [
    "**Challenge**: Add column headers using the `features` list defined above"
   ]
  },
  {
   "cell_type": "code",
   "execution_count": 6,
   "metadata": {},
   "outputs": [
    {
     "data": {
      "text/html": [
       "<div>\n",
       "<style scoped>\n",
       "    .dataframe tbody tr th:only-of-type {\n",
       "        vertical-align: middle;\n",
       "    }\n",
       "\n",
       "    .dataframe tbody tr th {\n",
       "        vertical-align: top;\n",
       "    }\n",
       "\n",
       "    .dataframe thead th {\n",
       "        text-align: right;\n",
       "    }\n",
       "</style>\n",
       "<table border=\"1\" class=\"dataframe\">\n",
       "  <thead>\n",
       "    <tr style=\"text-align: right;\">\n",
       "      <th></th>\n",
       "      <th>age</th>\n",
       "      <th>workclass</th>\n",
       "      <th>fnlwgt</th>\n",
       "      <th>education</th>\n",
       "      <th>education_num</th>\n",
       "      <th>marital_status</th>\n",
       "      <th>occupation</th>\n",
       "      <th>relationship</th>\n",
       "      <th>race</th>\n",
       "      <th>sex</th>\n",
       "      <th>capital_gain</th>\n",
       "      <th>capital_loss</th>\n",
       "      <th>hours_per_week</th>\n",
       "      <th>native_country</th>\n",
       "      <th>income</th>\n",
       "    </tr>\n",
       "  </thead>\n",
       "  <tbody>\n",
       "    <tr>\n",
       "      <th>0</th>\n",
       "      <td>39</td>\n",
       "      <td>State-gov</td>\n",
       "      <td>77516</td>\n",
       "      <td>Bachelors</td>\n",
       "      <td>13</td>\n",
       "      <td>Never-married</td>\n",
       "      <td>Adm-clerical</td>\n",
       "      <td>Not-in-family</td>\n",
       "      <td>White</td>\n",
       "      <td>Male</td>\n",
       "      <td>2174</td>\n",
       "      <td>0</td>\n",
       "      <td>40</td>\n",
       "      <td>United-States</td>\n",
       "      <td>&lt;=50K</td>\n",
       "    </tr>\n",
       "    <tr>\n",
       "      <th>1</th>\n",
       "      <td>50</td>\n",
       "      <td>Self-emp-not-inc</td>\n",
       "      <td>83311</td>\n",
       "      <td>Bachelors</td>\n",
       "      <td>13</td>\n",
       "      <td>Married-civ-spouse</td>\n",
       "      <td>Exec-managerial</td>\n",
       "      <td>Husband</td>\n",
       "      <td>White</td>\n",
       "      <td>Male</td>\n",
       "      <td>0</td>\n",
       "      <td>0</td>\n",
       "      <td>13</td>\n",
       "      <td>United-States</td>\n",
       "      <td>&lt;=50K</td>\n",
       "    </tr>\n",
       "    <tr>\n",
       "      <th>2</th>\n",
       "      <td>38</td>\n",
       "      <td>Private</td>\n",
       "      <td>215646</td>\n",
       "      <td>HS-grad</td>\n",
       "      <td>9</td>\n",
       "      <td>Divorced</td>\n",
       "      <td>Handlers-cleaners</td>\n",
       "      <td>Not-in-family</td>\n",
       "      <td>White</td>\n",
       "      <td>Male</td>\n",
       "      <td>0</td>\n",
       "      <td>0</td>\n",
       "      <td>40</td>\n",
       "      <td>United-States</td>\n",
       "      <td>&lt;=50K</td>\n",
       "    </tr>\n",
       "    <tr>\n",
       "      <th>3</th>\n",
       "      <td>53</td>\n",
       "      <td>Private</td>\n",
       "      <td>234721</td>\n",
       "      <td>11th</td>\n",
       "      <td>7</td>\n",
       "      <td>Married-civ-spouse</td>\n",
       "      <td>Handlers-cleaners</td>\n",
       "      <td>Husband</td>\n",
       "      <td>Black</td>\n",
       "      <td>Male</td>\n",
       "      <td>0</td>\n",
       "      <td>0</td>\n",
       "      <td>40</td>\n",
       "      <td>United-States</td>\n",
       "      <td>&lt;=50K</td>\n",
       "    </tr>\n",
       "    <tr>\n",
       "      <th>4</th>\n",
       "      <td>28</td>\n",
       "      <td>Private</td>\n",
       "      <td>338409</td>\n",
       "      <td>Bachelors</td>\n",
       "      <td>13</td>\n",
       "      <td>Married-civ-spouse</td>\n",
       "      <td>Prof-specialty</td>\n",
       "      <td>Wife</td>\n",
       "      <td>Black</td>\n",
       "      <td>Female</td>\n",
       "      <td>0</td>\n",
       "      <td>0</td>\n",
       "      <td>40</td>\n",
       "      <td>Cuba</td>\n",
       "      <td>&lt;=50K</td>\n",
       "    </tr>\n",
       "  </tbody>\n",
       "</table>\n",
       "</div>"
      ],
      "text/plain": [
       "   age          workclass  fnlwgt   education  education_num  \\\n",
       "0   39          State-gov   77516   Bachelors             13   \n",
       "1   50   Self-emp-not-inc   83311   Bachelors             13   \n",
       "2   38            Private  215646     HS-grad              9   \n",
       "3   53            Private  234721        11th              7   \n",
       "4   28            Private  338409   Bachelors             13   \n",
       "\n",
       "        marital_status          occupation    relationship    race      sex  \\\n",
       "0        Never-married        Adm-clerical   Not-in-family   White     Male   \n",
       "1   Married-civ-spouse     Exec-managerial         Husband   White     Male   \n",
       "2             Divorced   Handlers-cleaners   Not-in-family   White     Male   \n",
       "3   Married-civ-spouse   Handlers-cleaners         Husband   Black     Male   \n",
       "4   Married-civ-spouse      Prof-specialty            Wife   Black   Female   \n",
       "\n",
       "   capital_gain  capital_loss  hours_per_week  native_country  income  \n",
       "0          2174             0              40   United-States   <=50K  \n",
       "1             0             0              13   United-States   <=50K  \n",
       "2             0             0              40   United-States   <=50K  \n",
       "3             0             0              40   United-States   <=50K  \n",
       "4             0             0              40            Cuba   <=50K  "
      ]
     },
     "execution_count": 6,
     "metadata": {},
     "output_type": "execute_result"
    }
   ],
   "source": [
    "adult.columns = features\n",
    "adult.head()"
   ]
  },
  {
   "cell_type": "markdown",
   "metadata": {},
   "source": [
    "This is all the modifications we'll make at this time."
   ]
  },
  {
   "cell_type": "markdown",
   "metadata": {},
   "source": [
    "[Back to Top](#top)"
   ]
  },
  {
   "cell_type": "markdown",
   "metadata": {},
   "source": [
    "<a id=\"pipelines\"></a>\n",
    "# Review: Sklearn Pipelines\n",
    "---\n",
    "\n",
    "Sklearn provides a [module](https://scikit-learn.org/stable/modules/classes.html#module-sklearn.pipeline) for creating preprocessing pipelines. Some of you may be familiar. We will demonstrate Pipelines through an \"end to end\" project."
   ]
  },
  {
   "cell_type": "code",
   "execution_count": 7,
   "metadata": {},
   "outputs": [],
   "source": [
    "# import Pipeline class\n",
    "from sklearn.pipeline import Pipeline\n",
    "from sklearn.preprocessing import StandardScaler\n",
    "from sklearn.linear_model import LinearRegression"
   ]
  },
  {
   "cell_type": "code",
   "execution_count": 8,
   "metadata": {},
   "outputs": [
    {
     "data": {
      "text/html": [
       "<div>\n",
       "<style scoped>\n",
       "    .dataframe tbody tr th:only-of-type {\n",
       "        vertical-align: middle;\n",
       "    }\n",
       "\n",
       "    .dataframe tbody tr th {\n",
       "        vertical-align: top;\n",
       "    }\n",
       "\n",
       "    .dataframe thead th {\n",
       "        text-align: right;\n",
       "    }\n",
       "</style>\n",
       "<table border=\"1\" class=\"dataframe\">\n",
       "  <thead>\n",
       "    <tr style=\"text-align: right;\">\n",
       "      <th></th>\n",
       "      <th>age</th>\n",
       "    </tr>\n",
       "  </thead>\n",
       "  <tbody>\n",
       "    <tr>\n",
       "      <th>0</th>\n",
       "      <td>39</td>\n",
       "    </tr>\n",
       "    <tr>\n",
       "      <th>1</th>\n",
       "      <td>50</td>\n",
       "    </tr>\n",
       "    <tr>\n",
       "      <th>2</th>\n",
       "      <td>38</td>\n",
       "    </tr>\n",
       "    <tr>\n",
       "      <th>3</th>\n",
       "      <td>53</td>\n",
       "    </tr>\n",
       "    <tr>\n",
       "      <th>4</th>\n",
       "      <td>28</td>\n",
       "    </tr>\n",
       "  </tbody>\n",
       "</table>\n",
       "</div>"
      ],
      "text/plain": [
       "   age\n",
       "0   39\n",
       "1   50\n",
       "2   38\n",
       "3   53\n",
       "4   28"
      ]
     },
     "metadata": {},
     "output_type": "display_data"
    },
    {
     "data": {
      "text/plain": [
       "0     77516\n",
       "1     83311\n",
       "2    215646\n",
       "3    234721\n",
       "4    338409\n",
       "Name: fnlwgt, dtype: int64"
      ]
     },
     "metadata": {},
     "output_type": "display_data"
    }
   ],
   "source": [
    "X = adult[['age']].copy()\n",
    "y = adult['fnlwgt']\n",
    "display(X.head())\n",
    "display(y.head())"
   ]
  },
  {
   "cell_type": "markdown",
   "metadata": {},
   "source": [
    "**Explanation**    \n",
    "The sklearn pipeline takes a list of tuples. Each tuples is a step. The first element in a tuple is the name of the step and the second element is the class object that performs the step. Each step must have a `.fit` and a `.transform` method. The only exception to this is the last step, which can be a model class object (sklearn models do not have a `.transform` method).\n",
    "\n",
    "The output of one step becomes the input of the next step, so order matters when constructing the pipeline.\n",
    "\n",
    "**Example**:"
   ]
  },
  {
   "cell_type": "code",
   "execution_count": 9,
   "metadata": {},
   "outputs": [],
   "source": [
    "# instantiate a pipeline with 2 steps\n",
    "pipe = Pipeline([\n",
    "    ('ss', StandardScaler()),\n",
    "    ('lr', LinearRegression())\n",
    "])"
   ]
  },
  {
   "cell_type": "code",
   "execution_count": 10,
   "metadata": {},
   "outputs": [
    {
     "data": {
      "text/plain": [
       "Pipeline(memory=None,\n",
       "     steps=[('ss', StandardScaler(copy=True, with_mean=True, with_std=True)), ('lr', LinearRegression(copy_X=True, fit_intercept=True, n_jobs=None,\n",
       "         normalize=False))])"
      ]
     },
     "execution_count": 10,
     "metadata": {},
     "output_type": "execute_result"
    }
   ],
   "source": [
    "# fit the pipeline with data\n",
    "pipe.fit(X, y)"
   ]
  },
  {
   "cell_type": "code",
   "execution_count": 11,
   "metadata": {},
   "outputs": [
    {
     "data": {
      "text/plain": [
       "array([189530.24644427, 183006.2842647 , 190123.33391514, ...,\n",
       "       178261.58449773, 199612.73344906, 181820.10932295])"
      ]
     },
     "execution_count": 11,
     "metadata": {},
     "output_type": "execute_result"
    }
   ],
   "source": [
    "pipe.predict(X)"
   ]
  },
  {
   "cell_type": "markdown",
   "metadata": {},
   "source": [
    "[Back to Top](#top)"
   ]
  },
  {
   "cell_type": "markdown",
   "metadata": {},
   "source": [
    "<a id=\"explore\"></a>\n",
    "# Exploratory Data Analysis\n",
    "---\n",
    "\n",
    "Let's run through some basic EDA procedures."
   ]
  },
  {
   "cell_type": "markdown",
   "metadata": {},
   "source": [
    "**Challenge**: Show how many missing values exist."
   ]
  },
  {
   "cell_type": "code",
   "execution_count": 12,
   "metadata": {},
   "outputs": [
    {
     "data": {
      "text/plain": [
       "age                  0\n",
       "workclass         1836\n",
       "fnlwgt               0\n",
       "education            0\n",
       "education_num        0\n",
       "marital_status       0\n",
       "occupation        1843\n",
       "relationship         0\n",
       "race                 0\n",
       "sex                  0\n",
       "capital_gain         0\n",
       "capital_loss         0\n",
       "hours_per_week       0\n",
       "native_country     583\n",
       "income               0\n",
       "dtype: int64"
      ]
     },
     "execution_count": 12,
     "metadata": {},
     "output_type": "execute_result"
    }
   ],
   "source": [
    "adult.isnull().sum()"
   ]
  },
  {
   "cell_type": "markdown",
   "metadata": {},
   "source": [
    "**Challenge**: What are the data types for each column?"
   ]
  },
  {
   "cell_type": "code",
   "execution_count": 13,
   "metadata": {},
   "outputs": [
    {
     "data": {
      "text/plain": [
       "age                int64\n",
       "workclass         object\n",
       "fnlwgt             int64\n",
       "education         object\n",
       "education_num      int64\n",
       "marital_status    object\n",
       "occupation        object\n",
       "relationship      object\n",
       "race              object\n",
       "sex               object\n",
       "capital_gain       int64\n",
       "capital_loss       int64\n",
       "hours_per_week     int64\n",
       "native_country    object\n",
       "income            object\n",
       "dtype: object"
      ]
     },
     "execution_count": 13,
     "metadata": {},
     "output_type": "execute_result"
    }
   ],
   "source": [
    "adult.dtypes"
   ]
  },
  {
   "cell_type": "markdown",
   "metadata": {},
   "source": [
    "**Challenge**: what is the distribution of `income`? This is our target variable."
   ]
  },
  {
   "cell_type": "code",
   "execution_count": 14,
   "metadata": {},
   "outputs": [
    {
     "data": {
      "text/plain": [
       " <=50K    24720\n",
       " >50K      7841\n",
       "Name: income, dtype: int64"
      ]
     },
     "execution_count": 14,
     "metadata": {},
     "output_type": "execute_result"
    }
   ],
   "source": [
    "adult['income'].value_counts()"
   ]
  },
  {
   "cell_type": "markdown",
   "metadata": {},
   "source": [
    "**Challenge**: Create a plot of correlations"
   ]
  },
  {
   "cell_type": "code",
   "execution_count": 15,
   "metadata": {},
   "outputs": [
    {
     "data": {
      "image/png": "[encoded data removed]",
      "text/plain": [
       "<Figure size 432x288 with 2 Axes>"
      ]
     },
     "metadata": {
      "needs_background": "light"
     },
     "output_type": "display_data"
    }
   ],
   "source": [
    "sns.heatmap(adult.corr());"
   ]
  },
  {
   "cell_type": "markdown",
   "metadata": {},
   "source": [
    "**Challenge**: What are the distributions of the numeric data?"
   ]
  },
  {
   "cell_type": "code",
   "execution_count": 16,
   "metadata": {},
   "outputs": [
    {
     "data": {
      "image/png": "[encoded data removed]",
      "text/plain": [
       "<Figure size 864x720 with 6 Axes>"
      ]
     },
     "metadata": {
      "needs_background": "light"
     },
     "output_type": "display_data"
    }
   ],
   "source": [
    "adult.hist(figsize=(12,10),bins=50);"
   ]
  },
  {
   "cell_type": "markdown",
   "metadata": {},
   "source": [
    "[Back to Top](#top)"
   ]
  },
  {
   "cell_type": "markdown",
   "metadata": {},
   "source": [
    "<a id=\"preprocess\"></a>\n",
    "# Preprocessing Pipeline\n",
    "---\n",
    "\n",
    "We will build this pipeline out sequentially.\n",
    "\n",
    "**PREPROCESSING STEPS**\n",
    "1. Separate target variable from features - sklearn requires this.\n",
    "2. Peform a train-test split - Always do this before manipulating dataset\n",
    "3. With training data:\n",
    "    - **SEPARATE** numeric columns from categorical ones\n",
    "    - **NUMERIC DF** preprocessing:\n",
    "        - Replace nan values\n",
    "        - Standardize features\n",
    "   \n",
    "    - **CATEGORICAL DF** preprocessing:\n",
    "        - Replace nan values\n",
    "        - Create dummy variables\n",
    "    - **CONCATENATE** numeric and categorical DF\n",
    "    - **ENCODE** target variable\n",
    "<br>\n",
    "<br>\n",
    "4. Package these steps into a `Pipeline`"
   ]
  },
  {
   "cell_type": "markdown",
   "metadata": {},
   "source": [
    "**Challenge**: Using a list comprehension, create a list of the numeric columns."
   ]
  },
  {
   "cell_type": "code",
   "execution_count": 17,
   "metadata": {},
   "outputs": [],
   "source": [
    "num_cols = [col for col in adult.columns if adult[col].dtype != 'object']"
   ]
  },
  {
   "cell_type": "markdown",
   "metadata": {},
   "source": [
    "**Challenge**: Using a list comprehension, create a list of the numeric columns."
   ]
  },
  {
   "cell_type": "code",
   "execution_count": 18,
   "metadata": {},
   "outputs": [],
   "source": [
    "cat_cols = [col for col in adult.columns if col not in num_cols + ['income']]"
   ]
  },
  {
   "cell_type": "markdown",
   "metadata": {},
   "source": [
    "**1. Separate target variable from features**"
   ]
  },
  {
   "cell_type": "code",
   "execution_count": 19,
   "metadata": {},
   "outputs": [],
   "source": [
    "X = adult.drop('income', axis=1)\n",
    "y = adult['income']"
   ]
  },
  {
   "cell_type": "markdown",
   "metadata": {},
   "source": [
    "**Challenge**: Make a function that will extract out `X`. Call the function `feature_extractor`.\n",
    "\n",
    "- The function should accept a DataFrame and return a DataFrame with the target variable removed.\n",
    "- It's okay to hardcode the name of the target variable `income`."
   ]
  },
  {
   "cell_type": "code",
   "execution_count": 20,
   "metadata": {},
   "outputs": [],
   "source": [
    "def feature_extractor(df):\n",
    "    return df.drop('income', axis=1)"
   ]
  },
  {
   "cell_type": "markdown",
   "metadata": {},
   "source": [
    "**2. Peform a train-test split - Always do this before manipulating dataset**"
   ]
  },
  {
   "cell_type": "code",
   "execution_count": 21,
   "metadata": {},
   "outputs": [],
   "source": [
    "from sklearn.model_selection import train_test_split"
   ]
  },
  {
   "cell_type": "code",
   "execution_count": 22,
   "metadata": {},
   "outputs": [],
   "source": [
    "X_train, X_test, y_train, y_test = train_test_split(\n",
    "    X,\n",
    "    y,\n",
    "    test_size=0.3,\n",
    "    stratify=y,\n",
    "    random_state=24\n",
    ")"
   ]
  },
  {
   "cell_type": "markdown",
   "metadata": {},
   "source": [
    "**3. We will make functions for the following:**\n",
    "    - **SEPARATE** numeric columns from categorical ones\n",
    "    - **NUMERIC DF** preprocessing:\n",
    "        - Replace nan values\n",
    "        - Standardize features\n",
    "   \n",
    "    - **CATEGORICAL DF** preprocessing:\n",
    "        - Replace nan values\n",
    "        - Create dummy variables\n",
    "    - **CONCATENATE** numeric and categorical DF\n",
    "    - **ENCODE** target variable"
   ]
  },
  {
   "cell_type": "markdown",
   "metadata": {},
   "source": [
    "**Challenge**: Create a function that will extract the categorical columns. Name this function `categorical_extractor`.\n",
    "\n",
    "- The function should accept a DataFrame and return a DataFrame with only categorical variables."
   ]
  },
  {
   "cell_type": "code",
   "execution_count": 23,
   "metadata": {},
   "outputs": [],
   "source": [
    "def categorical_extractor(df):\n",
    "    return df.select_dtypes(include=['object'])"
   ]
  },
  {
   "cell_type": "markdown",
   "metadata": {},
   "source": [
    "**Challenge**: Create a function that will extract the numeric columns. Name this function `numeric_extractor`.\n",
    "\n",
    "- The function should accept a DataFrame and return a DataFrame with only categorical variables."
   ]
  },
  {
   "cell_type": "code",
   "execution_count": 24,
   "metadata": {},
   "outputs": [],
   "source": [
    "def numeric_extractor(df):\n",
    "    return df.select_dtypes(exclude=['object'])"
   ]
  },
  {
   "cell_type": "markdown",
   "metadata": {},
   "source": [
    "The following function is provided for convenience. It will add column names to dummy variable columns."
   ]
  },
  {
   "cell_type": "code",
   "execution_count": 25,
   "metadata": {},
   "outputs": [],
   "source": [
    "def dummy_col_adder(array):\n",
    "    dummy_cols = []\n",
    "    for col, cat_set in zip(cat_cols, cat_pipe.named_steps['OneHotEncoder'].categories_):\n",
    "        for cat in cat_set:\n",
    "            dummy_cols.append(col+'_'+cat)\n",
    "    return pd.DataFrame(array, columns=dummy_cols)"
   ]
  },
  {
   "cell_type": "markdown",
   "metadata": {},
   "source": [
    "[Back to Top](#top)"
   ]
  },
  {
   "cell_type": "markdown",
   "metadata": {},
   "source": [
    "### `FunctionTransformer`\n",
    "\n",
    "Sklearn pipelines require every step to be a `class` object with a `.fit` and `.transform` method. In order to use the functions we defined above, we will need to conver them to a \"transformer\" class object. The `FunctionTransformer` is class is designed for doing exactly that."
   ]
  },
  {
   "cell_type": "markdown",
   "metadata": {},
   "source": [
    "**DEMO**: Use `numeric_extractor` to grab numeric columns. Then try doing the same task after converting it to a transformer."
   ]
  },
  {
   "cell_type": "code",
   "execution_count": 26,
   "metadata": {},
   "outputs": [],
   "source": [
    "from sklearn.preprocessing import FunctionTransformer"
   ]
  },
  {
   "cell_type": "code",
   "execution_count": 27,
   "metadata": {},
   "outputs": [
    {
     "data": {
      "text/html": [
       "<div>\n",
       "<style scoped>\n",
       "    .dataframe tbody tr th:only-of-type {\n",
       "        vertical-align: middle;\n",
       "    }\n",
       "\n",
       "    .dataframe tbody tr th {\n",
       "        vertical-align: top;\n",
       "    }\n",
       "\n",
       "    .dataframe thead th {\n",
       "        text-align: right;\n",
       "    }\n",
       "</style>\n",
       "<table border=\"1\" class=\"dataframe\">\n",
       "  <thead>\n",
       "    <tr style=\"text-align: right;\">\n",
       "      <th></th>\n",
       "      <th>age</th>\n",
       "      <th>fnlwgt</th>\n",
       "      <th>education_num</th>\n",
       "      <th>capital_gain</th>\n",
       "      <th>capital_loss</th>\n",
       "      <th>hours_per_week</th>\n",
       "    </tr>\n",
       "  </thead>\n",
       "  <tbody>\n",
       "    <tr>\n",
       "      <th>0</th>\n",
       "      <td>39</td>\n",
       "      <td>77516</td>\n",
       "      <td>13</td>\n",
       "      <td>2174</td>\n",
       "      <td>0</td>\n",
       "      <td>40</td>\n",
       "    </tr>\n",
       "    <tr>\n",
       "      <th>1</th>\n",
       "      <td>50</td>\n",
       "      <td>83311</td>\n",
       "      <td>13</td>\n",
       "      <td>0</td>\n",
       "      <td>0</td>\n",
       "      <td>13</td>\n",
       "    </tr>\n",
       "    <tr>\n",
       "      <th>2</th>\n",
       "      <td>38</td>\n",
       "      <td>215646</td>\n",
       "      <td>9</td>\n",
       "      <td>0</td>\n",
       "      <td>0</td>\n",
       "      <td>40</td>\n",
       "    </tr>\n",
       "    <tr>\n",
       "      <th>3</th>\n",
       "      <td>53</td>\n",
       "      <td>234721</td>\n",
       "      <td>7</td>\n",
       "      <td>0</td>\n",
       "      <td>0</td>\n",
       "      <td>40</td>\n",
       "    </tr>\n",
       "    <tr>\n",
       "      <th>4</th>\n",
       "      <td>28</td>\n",
       "      <td>338409</td>\n",
       "      <td>13</td>\n",
       "      <td>0</td>\n",
       "      <td>0</td>\n",
       "      <td>40</td>\n",
       "    </tr>\n",
       "  </tbody>\n",
       "</table>\n",
       "</div>"
      ],
      "text/plain": [
       "   age  fnlwgt  education_num  capital_gain  capital_loss  hours_per_week\n",
       "0   39   77516             13          2174             0              40\n",
       "1   50   83311             13             0             0              13\n",
       "2   38  215646              9             0             0              40\n",
       "3   53  234721              7             0             0              40\n",
       "4   28  338409             13             0             0              40"
      ]
     },
     "execution_count": 27,
     "metadata": {},
     "output_type": "execute_result"
    }
   ],
   "source": [
    "numeric_extractor(adult).head()"
   ]
  },
  {
   "cell_type": "code",
   "execution_count": 28,
   "metadata": {},
   "outputs": [
    {
     "data": {
      "text/html": [
       "<div>\n",
       "<style scoped>\n",
       "    .dataframe tbody tr th:only-of-type {\n",
       "        vertical-align: middle;\n",
       "    }\n",
       "\n",
       "    .dataframe tbody tr th {\n",
       "        vertical-align: top;\n",
       "    }\n",
       "\n",
       "    .dataframe thead th {\n",
       "        text-align: right;\n",
       "    }\n",
       "</style>\n",
       "<table border=\"1\" class=\"dataframe\">\n",
       "  <thead>\n",
       "    <tr style=\"text-align: right;\">\n",
       "      <th></th>\n",
       "      <th>age</th>\n",
       "      <th>fnlwgt</th>\n",
       "      <th>education_num</th>\n",
       "      <th>capital_gain</th>\n",
       "      <th>capital_loss</th>\n",
       "      <th>hours_per_week</th>\n",
       "    </tr>\n",
       "  </thead>\n",
       "  <tbody>\n",
       "    <tr>\n",
       "      <th>0</th>\n",
       "      <td>39</td>\n",
       "      <td>77516</td>\n",
       "      <td>13</td>\n",
       "      <td>2174</td>\n",
       "      <td>0</td>\n",
       "      <td>40</td>\n",
       "    </tr>\n",
       "    <tr>\n",
       "      <th>1</th>\n",
       "      <td>50</td>\n",
       "      <td>83311</td>\n",
       "      <td>13</td>\n",
       "      <td>0</td>\n",
       "      <td>0</td>\n",
       "      <td>13</td>\n",
       "    </tr>\n",
       "    <tr>\n",
       "      <th>2</th>\n",
       "      <td>38</td>\n",
       "      <td>215646</td>\n",
       "      <td>9</td>\n",
       "      <td>0</td>\n",
       "      <td>0</td>\n",
       "      <td>40</td>\n",
       "    </tr>\n",
       "    <tr>\n",
       "      <th>3</th>\n",
       "      <td>53</td>\n",
       "      <td>234721</td>\n",
       "      <td>7</td>\n",
       "      <td>0</td>\n",
       "      <td>0</td>\n",
       "      <td>40</td>\n",
       "    </tr>\n",
       "    <tr>\n",
       "      <th>4</th>\n",
       "      <td>28</td>\n",
       "      <td>338409</td>\n",
       "      <td>13</td>\n",
       "      <td>0</td>\n",
       "      <td>0</td>\n",
       "      <td>40</td>\n",
       "    </tr>\n",
       "  </tbody>\n",
       "</table>\n",
       "</div>"
      ],
      "text/plain": [
       "   age  fnlwgt  education_num  capital_gain  capital_loss  hours_per_week\n",
       "0   39   77516             13          2174             0              40\n",
       "1   50   83311             13             0             0              13\n",
       "2   38  215646              9             0             0              40\n",
       "3   53  234721              7             0             0              40\n",
       "4   28  338409             13             0             0              40"
      ]
     },
     "execution_count": 28,
     "metadata": {},
     "output_type": "execute_result"
    }
   ],
   "source": [
    "num_transformer = FunctionTransformer(numeric_extractor, validate=False)\n",
    "num_transformer.transform(adult).head()"
   ]
  },
  {
   "cell_type": "markdown",
   "metadata": {},
   "source": [
    "**Challenge**: Using the `num_transformer` defined above, build a pipeline for the numeric data. Call the pipeline `num_pipe`. The steps should include:\n",
    "\n",
    "1. `num_transformer`\n",
    "2. `SimpleImputer` (from sklearn.impute - use the `median` strategy)\n",
    "3. `StandardScaler` (from sklearn.preprocessing)\n"
   ]
  },
  {
   "cell_type": "code",
   "execution_count": 29,
   "metadata": {},
   "outputs": [],
   "source": [
    "from sklearn.impute import SimpleImputer"
   ]
  },
  {
   "cell_type": "code",
   "execution_count": 30,
   "metadata": {},
   "outputs": [],
   "source": [
    "# make numeric pipe\n",
    "num_pipe = Pipeline([\n",
    "    ('numeric_transformer', num_transformer),\n",
    "    ('num_im', SimpleImputer(strategy='median')),\n",
    "    ('StandardScaler', StandardScaler())\n",
    "])"
   ]
  },
  {
   "cell_type": "code",
   "execution_count": 31,
   "metadata": {},
   "outputs": [
    {
     "data": {
      "text/plain": [
       "array([[-0.9248115 ,  0.01234365,  1.13367091, -0.14674936, -0.21471569,\n",
       "        -0.84327852],\n",
       "       [ 1.71248556,  2.16242727, -1.19858075, -0.14674936, -0.21471569,\n",
       "        -1.57298583],\n",
       "       [-1.14458626,  2.32985924, -0.42116353, -0.14674936, -0.21471569,\n",
       "         0.6161361 ],\n",
       "       ...,\n",
       "       [ 0.39383703,  1.6965263 , -3.14212379, -0.14674936, -0.21471569,\n",
       "        -0.03249262],\n",
       "       [ 1.41945255,  0.03584754, -2.36470657, -0.14674936, -0.21471569,\n",
       "        -0.60004275],\n",
       "       [-1.29110276,  2.9788741 , -0.42116353, -0.14674936, -0.21471569,\n",
       "        -0.03249262]])"
      ]
     },
     "execution_count": 31,
     "metadata": {},
     "output_type": "execute_result"
    }
   ],
   "source": [
    "num_pipe.fit_transform(X_train)"
   ]
  },
  {
   "cell_type": "markdown",
   "metadata": {},
   "source": [
    "#### We'll now build the pipeline for categorical data\n",
    "\n",
    "1. Use `FunctionTransformer` to transform `categorical_extractor`\n",
    "2. Use `FunctionTransformer` to transform `dummy_col_adder`\n",
    "3. Build the categorical pipeline\n",
    "\n",
    "For number 3, include the following steps:\n",
    "\n",
    "- `cat_transformer`\n",
    "- `SimpleImputer(strategy='most_frequent')`\n",
    "- `OneHotEncoder(sparse=False, handle_unknown='ignore')`\n",
    "- `dummy_col_transformer`"
   ]
  },
  {
   "cell_type": "code",
   "execution_count": 32,
   "metadata": {},
   "outputs": [],
   "source": [
    "from sklearn.preprocessing import OneHotEncoder"
   ]
  },
  {
   "cell_type": "code",
   "execution_count": 33,
   "metadata": {},
   "outputs": [],
   "source": [
    "# transform our two functions\n",
    "cat_transformer = FunctionTransformer(categorical_extractor, validate=False)\n",
    "dummy_col_transformer = FunctionTransformer(dummy_col_adder, validate=False)"
   ]
  },
  {
   "cell_type": "code",
   "execution_count": 34,
   "metadata": {},
   "outputs": [],
   "source": [
    "cat_pipe = Pipeline([\n",
    "    ('cat_transformer', cat_transformer),\n",
    "    ('cat_im', SimpleImputer(strategy='most_frequent')),\n",
    "    ('OneHotEncoder', OneHotEncoder(sparse=False, handle_unknown='ignore')),\n",
    "#     ('dummy_col_transformer', dummy_col_transformer)\n",
    "])"
   ]
  },
  {
   "cell_type": "code",
   "execution_count": 35,
   "metadata": {},
   "outputs": [
    {
     "data": {
      "text/plain": [
       "Pipeline(memory=None,\n",
       "     steps=[('cat_transformer', FunctionTransformer(accept_sparse=False, check_inverse=True,\n",
       "          func=<function categorical_extractor at 0x1a19ace7b8>,\n",
       "          inv_kw_args=None, inverse_func=None, kw_args=None,\n",
       "          pass_y='deprecated', validate=False)), ('cat_im', SimpleImputer(copy=True, f...       dtype=<class 'numpy.float64'>, handle_unknown='ignore',\n",
       "       n_values=None, sparse=False))])"
      ]
     },
     "execution_count": 35,
     "metadata": {},
     "output_type": "execute_result"
    }
   ],
   "source": [
    "cat_pipe.fit(X_train)"
   ]
  },
  {
   "cell_type": "code",
   "execution_count": 36,
   "metadata": {},
   "outputs": [
    {
     "data": {
      "text/plain": [
       "(22792, 99)"
      ]
     },
     "execution_count": 36,
     "metadata": {},
     "output_type": "execute_result"
    }
   ],
   "source": [
    "cat_pipe.transform(X_train).shape"
   ]
  },
  {
   "cell_type": "markdown",
   "metadata": {},
   "source": [
    "[Back to Top](#top)"
   ]
  },
  {
   "cell_type": "markdown",
   "metadata": {},
   "source": [
    "### `FeatureUnion`\n",
    "\n",
    "We now have two pipelines: `num_pipe` and `cat_pipe`. The each do their job and we can have them work in parallel. For this, we use the `FeatureUnion` class from the `pipeline` module. This will run each pipeline seperately and combine the results."
   ]
  },
  {
   "cell_type": "code",
   "execution_count": 37,
   "metadata": {},
   "outputs": [],
   "source": [
    "from sklearn.pipeline import FeatureUnion"
   ]
  },
  {
   "cell_type": "code",
   "execution_count": 38,
   "metadata": {},
   "outputs": [],
   "source": [
    "# make FeatureUnion\n",
    "feat_union = FeatureUnion([\n",
    "    ('num_pipe', num_pipe),\n",
    "    ('cat_pipe', cat_pipe)\n",
    "])"
   ]
  },
  {
   "cell_type": "code",
   "execution_count": 39,
   "metadata": {},
   "outputs": [
    {
     "data": {
      "text/plain": [
       "array([[-0.9248115 ,  0.01234365,  1.13367091, -0.14674936, -0.21471569,\n",
       "        -0.84327852,  0.        ,  0.        ,  0.        ,  1.        ,\n",
       "         0.        ,  0.        ,  0.        ,  0.        ,  0.        ,\n",
       "         0.        ,  0.        ,  0.        ,  0.        ,  0.        ,\n",
       "         0.        ,  0.        ,  0.        ,  1.        ,  0.        ,\n",
       "         0.        ,  0.        ,  0.        ,  0.        ,  0.        ,\n",
       "         0.        ,  0.        ,  0.        ,  0.        ,  1.        ,\n",
       "         0.        ,  0.        ,  0.        ,  0.        ,  0.        ,\n",
       "         0.        ,  0.        ,  0.        ,  0.        ,  1.        ,\n",
       "         0.        ,  0.        ,  0.        ,  0.        ,  0.        ,\n",
       "         0.        ,  0.        ,  1.        ,  0.        ,  0.        ,\n",
       "         0.        ,  0.        ,  0.        ,  0.        ,  0.        ,\n",
       "         0.        ,  1.        ,  0.        ,  1.        ,  0.        ,\n",
       "         0.        ,  0.        ,  0.        ,  0.        ,  0.        ,\n",
       "         0.        ,  0.        ,  0.        ,  0.        ,  0.        ,\n",
       "         0.        ,  0.        ,  0.        ,  0.        ,  0.        ,\n",
       "         0.        ,  0.        ,  0.        ,  0.        ,  0.        ,\n",
       "         0.        ,  0.        ,  0.        ,  0.        ,  0.        ,\n",
       "         0.        ,  0.        ,  0.        ,  0.        ,  0.        ,\n",
       "         0.        ,  0.        ,  0.        ,  0.        ,  0.        ,\n",
       "         0.        ,  0.        ,  1.        ,  0.        ,  0.        ]])"
      ]
     },
     "execution_count": 39,
     "metadata": {},
     "output_type": "execute_result"
    }
   ],
   "source": [
    "feat_union.fit(X_train).transform(X_train)[:1]"
   ]
  },
  {
   "cell_type": "markdown",
   "metadata": {},
   "source": [
    "Above, the first 6 items are from the numeric data. The remaining columns are dummy variables from the categorical columns. Finally, we combine this into one pipeline."
   ]
  },
  {
   "cell_type": "code",
   "execution_count": 40,
   "metadata": {},
   "outputs": [],
   "source": [
    "feature_pipe = Pipeline([\n",
    "    ('feat_union', feat_union)\n",
    "])"
   ]
  },
  {
   "cell_type": "markdown",
   "metadata": {},
   "source": [
    "#### Use this pipeline to _fit_ and _transform_ `X_train`"
   ]
  },
  {
   "cell_type": "code",
   "execution_count": 41,
   "metadata": {},
   "outputs": [
    {
     "data": {
      "text/html": [
       "<div>\n",
       "<style scoped>\n",
       "    .dataframe tbody tr th:only-of-type {\n",
       "        vertical-align: middle;\n",
       "    }\n",
       "\n",
       "    .dataframe tbody tr th {\n",
       "        vertical-align: top;\n",
       "    }\n",
       "\n",
       "    .dataframe thead th {\n",
       "        text-align: right;\n",
       "    }\n",
       "</style>\n",
       "<table border=\"1\" class=\"dataframe\">\n",
       "  <thead>\n",
       "    <tr style=\"text-align: right;\">\n",
       "      <th></th>\n",
       "      <th>age</th>\n",
       "      <th>fnlwgt</th>\n",
       "      <th>education_num</th>\n",
       "      <th>capital_gain</th>\n",
       "      <th>capital_loss</th>\n",
       "      <th>hours_per_week</th>\n",
       "      <th>workclass_Federal-gov</th>\n",
       "      <th>workclass_Local-gov</th>\n",
       "      <th>workclass_Never-worked</th>\n",
       "      <th>workclass_Private</th>\n",
       "      <th>...</th>\n",
       "      <th>native_country_Portugal</th>\n",
       "      <th>native_country_Puerto-Rico</th>\n",
       "      <th>native_country_Scotland</th>\n",
       "      <th>native_country_South</th>\n",
       "      <th>native_country_Taiwan</th>\n",
       "      <th>native_country_Thailand</th>\n",
       "      <th>native_country_Trinadad&amp;Tobago</th>\n",
       "      <th>native_country_United-States</th>\n",
       "      <th>native_country_Vietnam</th>\n",
       "      <th>native_country_Yugoslavia</th>\n",
       "    </tr>\n",
       "  </thead>\n",
       "  <tbody>\n",
       "    <tr>\n",
       "      <th>10348</th>\n",
       "      <td>-0.924812</td>\n",
       "      <td>0.012344</td>\n",
       "      <td>1.133671</td>\n",
       "      <td>-0.146749</td>\n",
       "      <td>-0.214716</td>\n",
       "      <td>-0.843279</td>\n",
       "      <td>0.0</td>\n",
       "      <td>0.0</td>\n",
       "      <td>0.0</td>\n",
       "      <td>1.0</td>\n",
       "      <td>...</td>\n",
       "      <td>0.0</td>\n",
       "      <td>0.0</td>\n",
       "      <td>0.0</td>\n",
       "      <td>0.0</td>\n",
       "      <td>0.0</td>\n",
       "      <td>0.0</td>\n",
       "      <td>0.0</td>\n",
       "      <td>1.0</td>\n",
       "      <td>0.0</td>\n",
       "      <td>0.0</td>\n",
       "    </tr>\n",
       "    <tr>\n",
       "      <th>11062</th>\n",
       "      <td>1.712486</td>\n",
       "      <td>2.162427</td>\n",
       "      <td>-1.198581</td>\n",
       "      <td>-0.146749</td>\n",
       "      <td>-0.214716</td>\n",
       "      <td>-1.572986</td>\n",
       "      <td>0.0</td>\n",
       "      <td>0.0</td>\n",
       "      <td>0.0</td>\n",
       "      <td>1.0</td>\n",
       "      <td>...</td>\n",
       "      <td>0.0</td>\n",
       "      <td>0.0</td>\n",
       "      <td>0.0</td>\n",
       "      <td>0.0</td>\n",
       "      <td>0.0</td>\n",
       "      <td>0.0</td>\n",
       "      <td>0.0</td>\n",
       "      <td>1.0</td>\n",
       "      <td>0.0</td>\n",
       "      <td>0.0</td>\n",
       "    </tr>\n",
       "    <tr>\n",
       "      <th>25734</th>\n",
       "      <td>-1.144586</td>\n",
       "      <td>2.329859</td>\n",
       "      <td>-0.421164</td>\n",
       "      <td>-0.146749</td>\n",
       "      <td>-0.214716</td>\n",
       "      <td>0.616136</td>\n",
       "      <td>0.0</td>\n",
       "      <td>0.0</td>\n",
       "      <td>0.0</td>\n",
       "      <td>1.0</td>\n",
       "      <td>...</td>\n",
       "      <td>0.0</td>\n",
       "      <td>0.0</td>\n",
       "      <td>0.0</td>\n",
       "      <td>0.0</td>\n",
       "      <td>0.0</td>\n",
       "      <td>0.0</td>\n",
       "      <td>0.0</td>\n",
       "      <td>1.0</td>\n",
       "      <td>0.0</td>\n",
       "      <td>0.0</td>\n",
       "    </tr>\n",
       "    <tr>\n",
       "      <th>401</th>\n",
       "      <td>-0.778295</td>\n",
       "      <td>-0.763740</td>\n",
       "      <td>-0.032455</td>\n",
       "      <td>-0.146749</td>\n",
       "      <td>-0.214716</td>\n",
       "      <td>-0.032493</td>\n",
       "      <td>0.0</td>\n",
       "      <td>0.0</td>\n",
       "      <td>0.0</td>\n",
       "      <td>1.0</td>\n",
       "      <td>...</td>\n",
       "      <td>0.0</td>\n",
       "      <td>0.0</td>\n",
       "      <td>0.0</td>\n",
       "      <td>0.0</td>\n",
       "      <td>0.0</td>\n",
       "      <td>0.0</td>\n",
       "      <td>0.0</td>\n",
       "      <td>1.0</td>\n",
       "      <td>0.0</td>\n",
       "      <td>0.0</td>\n",
       "    </tr>\n",
       "    <tr>\n",
       "      <th>28063</th>\n",
       "      <td>1.126420</td>\n",
       "      <td>1.600147</td>\n",
       "      <td>1.133671</td>\n",
       "      <td>0.844477</td>\n",
       "      <td>-0.214716</td>\n",
       "      <td>1.183686</td>\n",
       "      <td>0.0</td>\n",
       "      <td>0.0</td>\n",
       "      <td>0.0</td>\n",
       "      <td>0.0</td>\n",
       "      <td>...</td>\n",
       "      <td>0.0</td>\n",
       "      <td>0.0</td>\n",
       "      <td>0.0</td>\n",
       "      <td>0.0</td>\n",
       "      <td>0.0</td>\n",
       "      <td>0.0</td>\n",
       "      <td>0.0</td>\n",
       "      <td>1.0</td>\n",
       "      <td>0.0</td>\n",
       "      <td>0.0</td>\n",
       "    </tr>\n",
       "  </tbody>\n",
       "</table>\n",
       "<p>5 rows × 105 columns</p>\n",
       "</div>"
      ],
      "text/plain": [
       "            age    fnlwgt  education_num  capital_gain  capital_loss  \\\n",
       "10348 -0.924812  0.012344       1.133671     -0.146749     -0.214716   \n",
       "11062  1.712486  2.162427      -1.198581     -0.146749     -0.214716   \n",
       "25734 -1.144586  2.329859      -0.421164     -0.146749     -0.214716   \n",
       "401   -0.778295 -0.763740      -0.032455     -0.146749     -0.214716   \n",
       "28063  1.126420  1.600147       1.133671      0.844477     -0.214716   \n",
       "\n",
       "       hours_per_week  workclass_Federal-gov  workclass_Local-gov  \\\n",
       "10348       -0.843279                    0.0                  0.0   \n",
       "11062       -1.572986                    0.0                  0.0   \n",
       "25734        0.616136                    0.0                  0.0   \n",
       "401         -0.032493                    0.0                  0.0   \n",
       "28063        1.183686                    0.0                  0.0   \n",
       "\n",
       "       workclass_Never-worked  workclass_Private            ...              \\\n",
       "10348                     0.0                1.0            ...               \n",
       "11062                     0.0                1.0            ...               \n",
       "25734                     0.0                1.0            ...               \n",
       "401                       0.0                1.0            ...               \n",
       "28063                     0.0                0.0            ...               \n",
       "\n",
       "       native_country_Portugal  native_country_Puerto-Rico  \\\n",
       "10348                      0.0                         0.0   \n",
       "11062                      0.0                         0.0   \n",
       "25734                      0.0                         0.0   \n",
       "401                        0.0                         0.0   \n",
       "28063                      0.0                         0.0   \n",
       "\n",
       "       native_country_Scotland  native_country_South  native_country_Taiwan  \\\n",
       "10348                      0.0                   0.0                    0.0   \n",
       "11062                      0.0                   0.0                    0.0   \n",
       "25734                      0.0                   0.0                    0.0   \n",
       "401                        0.0                   0.0                    0.0   \n",
       "28063                      0.0                   0.0                    0.0   \n",
       "\n",
       "       native_country_Thailand  native_country_Trinadad&Tobago  \\\n",
       "10348                      0.0                             0.0   \n",
       "11062                      0.0                             0.0   \n",
       "25734                      0.0                             0.0   \n",
       "401                        0.0                             0.0   \n",
       "28063                      0.0                             0.0   \n",
       "\n",
       "       native_country_United-States  native_country_Vietnam  \\\n",
       "10348                           1.0                     0.0   \n",
       "11062                           1.0                     0.0   \n",
       "25734                           1.0                     0.0   \n",
       "401                             1.0                     0.0   \n",
       "28063                           1.0                     0.0   \n",
       "\n",
       "       native_country_Yugoslavia  \n",
       "10348                        0.0  \n",
       "11062                        0.0  \n",
       "25734                        0.0  \n",
       "401                          0.0  \n",
       "28063                        0.0  \n",
       "\n",
       "[5 rows x 105 columns]"
      ]
     },
     "execution_count": 41,
     "metadata": {},
     "output_type": "execute_result"
    }
   ],
   "source": [
    "# fit and transform training data\n",
    "X_train_prepared = pd.DataFrame(\n",
    "    feature_pipe.fit(X_train).transform(X_train),\n",
    "    index=X_train.index,\n",
    "    columns = num_cols + [col+ '_' + level.strip()\n",
    "                          for col, cat in zip(cat_cols, cat_pipe.named_steps['OneHotEncoder'].categories_)\n",
    "                          for level in cat])\n",
    "X_train_prepared.head()"
   ]
  },
  {
   "cell_type": "markdown",
   "metadata": {},
   "source": [
    "**Challenge**: Use this fitted pipeline to transform `X_test`."
   ]
  },
  {
   "cell_type": "code",
   "execution_count": 42,
   "metadata": {},
   "outputs": [
    {
     "data": {
      "text/html": [
       "<div>\n",
       "<style scoped>\n",
       "    .dataframe tbody tr th:only-of-type {\n",
       "        vertical-align: middle;\n",
       "    }\n",
       "\n",
       "    .dataframe tbody tr th {\n",
       "        vertical-align: top;\n",
       "    }\n",
       "\n",
       "    .dataframe thead th {\n",
       "        text-align: right;\n",
       "    }\n",
       "</style>\n",
       "<table border=\"1\" class=\"dataframe\">\n",
       "  <thead>\n",
       "    <tr style=\"text-align: right;\">\n",
       "      <th></th>\n",
       "      <th>age</th>\n",
       "      <th>fnlwgt</th>\n",
       "      <th>education_num</th>\n",
       "      <th>capital_gain</th>\n",
       "      <th>capital_loss</th>\n",
       "      <th>hours_per_week</th>\n",
       "      <th>workclass_Federal-gov</th>\n",
       "      <th>workclass_Local-gov</th>\n",
       "      <th>workclass_Never-worked</th>\n",
       "      <th>workclass_Private</th>\n",
       "      <th>...</th>\n",
       "      <th>native_country_Portugal</th>\n",
       "      <th>native_country_Puerto-Rico</th>\n",
       "      <th>native_country_Scotland</th>\n",
       "      <th>native_country_South</th>\n",
       "      <th>native_country_Taiwan</th>\n",
       "      <th>native_country_Thailand</th>\n",
       "      <th>native_country_Trinadad&amp;Tobago</th>\n",
       "      <th>native_country_United-States</th>\n",
       "      <th>native_country_Vietnam</th>\n",
       "      <th>native_country_Yugoslavia</th>\n",
       "    </tr>\n",
       "  </thead>\n",
       "  <tbody>\n",
       "    <tr>\n",
       "      <th>2093</th>\n",
       "      <td>0.906645</td>\n",
       "      <td>-0.129961</td>\n",
       "      <td>1.133671</td>\n",
       "      <td>-0.146749</td>\n",
       "      <td>-0.214716</td>\n",
       "      <td>0.535058</td>\n",
       "      <td>0.0</td>\n",
       "      <td>0.0</td>\n",
       "      <td>0.0</td>\n",
       "      <td>1.0</td>\n",
       "      <td>...</td>\n",
       "      <td>0.0</td>\n",
       "      <td>0.0</td>\n",
       "      <td>0.0</td>\n",
       "      <td>0.0</td>\n",
       "      <td>0.0</td>\n",
       "      <td>0.0</td>\n",
       "      <td>0.0</td>\n",
       "      <td>1.0</td>\n",
       "      <td>0.0</td>\n",
       "      <td>0.0</td>\n",
       "    </tr>\n",
       "    <tr>\n",
       "      <th>29473</th>\n",
       "      <td>-1.437619</td>\n",
       "      <td>1.329928</td>\n",
       "      <td>-1.198581</td>\n",
       "      <td>-0.146749</td>\n",
       "      <td>-0.214716</td>\n",
       "      <td>-0.032493</td>\n",
       "      <td>0.0</td>\n",
       "      <td>0.0</td>\n",
       "      <td>0.0</td>\n",
       "      <td>1.0</td>\n",
       "      <td>...</td>\n",
       "      <td>0.0</td>\n",
       "      <td>0.0</td>\n",
       "      <td>0.0</td>\n",
       "      <td>0.0</td>\n",
       "      <td>0.0</td>\n",
       "      <td>0.0</td>\n",
       "      <td>0.0</td>\n",
       "      <td>1.0</td>\n",
       "      <td>0.0</td>\n",
       "      <td>0.0</td>\n",
       "    </tr>\n",
       "    <tr>\n",
       "      <th>14123</th>\n",
       "      <td>0.174062</td>\n",
       "      <td>1.430095</td>\n",
       "      <td>-2.753415</td>\n",
       "      <td>-0.146749</td>\n",
       "      <td>-0.214716</td>\n",
       "      <td>-0.032493</td>\n",
       "      <td>0.0</td>\n",
       "      <td>0.0</td>\n",
       "      <td>0.0</td>\n",
       "      <td>1.0</td>\n",
       "      <td>...</td>\n",
       "      <td>0.0</td>\n",
       "      <td>0.0</td>\n",
       "      <td>0.0</td>\n",
       "      <td>0.0</td>\n",
       "      <td>0.0</td>\n",
       "      <td>0.0</td>\n",
       "      <td>0.0</td>\n",
       "      <td>0.0</td>\n",
       "      <td>0.0</td>\n",
       "      <td>0.0</td>\n",
       "    </tr>\n",
       "    <tr>\n",
       "      <th>10193</th>\n",
       "      <td>0.906645</td>\n",
       "      <td>-1.536521</td>\n",
       "      <td>-0.421164</td>\n",
       "      <td>-0.146749</td>\n",
       "      <td>-0.214716</td>\n",
       "      <td>-0.032493</td>\n",
       "      <td>1.0</td>\n",
       "      <td>0.0</td>\n",
       "      <td>0.0</td>\n",
       "      <td>0.0</td>\n",
       "      <td>...</td>\n",
       "      <td>0.0</td>\n",
       "      <td>0.0</td>\n",
       "      <td>0.0</td>\n",
       "      <td>0.0</td>\n",
       "      <td>0.0</td>\n",
       "      <td>0.0</td>\n",
       "      <td>0.0</td>\n",
       "      <td>1.0</td>\n",
       "      <td>0.0</td>\n",
       "      <td>0.0</td>\n",
       "    </tr>\n",
       "    <tr>\n",
       "      <th>18789</th>\n",
       "      <td>0.320579</td>\n",
       "      <td>1.045784</td>\n",
       "      <td>-0.032455</td>\n",
       "      <td>-0.146749</td>\n",
       "      <td>-0.214716</td>\n",
       "      <td>-0.032493</td>\n",
       "      <td>0.0</td>\n",
       "      <td>0.0</td>\n",
       "      <td>0.0</td>\n",
       "      <td>1.0</td>\n",
       "      <td>...</td>\n",
       "      <td>0.0</td>\n",
       "      <td>0.0</td>\n",
       "      <td>0.0</td>\n",
       "      <td>0.0</td>\n",
       "      <td>0.0</td>\n",
       "      <td>0.0</td>\n",
       "      <td>0.0</td>\n",
       "      <td>1.0</td>\n",
       "      <td>0.0</td>\n",
       "      <td>0.0</td>\n",
       "    </tr>\n",
       "  </tbody>\n",
       "</table>\n",
       "<p>5 rows × 105 columns</p>\n",
       "</div>"
      ],
      "text/plain": [
       "            age    fnlwgt  education_num  capital_gain  capital_loss  \\\n",
       "2093   0.906645 -0.129961       1.133671     -0.146749     -0.214716   \n",
       "29473 -1.437619  1.329928      -1.198581     -0.146749     -0.214716   \n",
       "14123  0.174062  1.430095      -2.753415     -0.146749     -0.214716   \n",
       "10193  0.906645 -1.536521      -0.421164     -0.146749     -0.214716   \n",
       "18789  0.320579  1.045784      -0.032455     -0.146749     -0.214716   \n",
       "\n",
       "       hours_per_week  workclass_Federal-gov  workclass_Local-gov  \\\n",
       "2093         0.535058                    0.0                  0.0   \n",
       "29473       -0.032493                    0.0                  0.0   \n",
       "14123       -0.032493                    0.0                  0.0   \n",
       "10193       -0.032493                    1.0                  0.0   \n",
       "18789       -0.032493                    0.0                  0.0   \n",
       "\n",
       "       workclass_Never-worked  workclass_Private            ...              \\\n",
       "2093                      0.0                1.0            ...               \n",
       "29473                     0.0                1.0            ...               \n",
       "14123                     0.0                1.0            ...               \n",
       "10193                     0.0                0.0            ...               \n",
       "18789                     0.0                1.0            ...               \n",
       "\n",
       "       native_country_Portugal  native_country_Puerto-Rico  \\\n",
       "2093                       0.0                         0.0   \n",
       "29473                      0.0                         0.0   \n",
       "14123                      0.0                         0.0   \n",
       "10193                      0.0                         0.0   \n",
       "18789                      0.0                         0.0   \n",
       "\n",
       "       native_country_Scotland  native_country_South  native_country_Taiwan  \\\n",
       "2093                       0.0                   0.0                    0.0   \n",
       "29473                      0.0                   0.0                    0.0   \n",
       "14123                      0.0                   0.0                    0.0   \n",
       "10193                      0.0                   0.0                    0.0   \n",
       "18789                      0.0                   0.0                    0.0   \n",
       "\n",
       "       native_country_Thailand  native_country_Trinadad&Tobago  \\\n",
       "2093                       0.0                             0.0   \n",
       "29473                      0.0                             0.0   \n",
       "14123                      0.0                             0.0   \n",
       "10193                      0.0                             0.0   \n",
       "18789                      0.0                             0.0   \n",
       "\n",
       "       native_country_United-States  native_country_Vietnam  \\\n",
       "2093                            1.0                     0.0   \n",
       "29473                           1.0                     0.0   \n",
       "14123                           0.0                     0.0   \n",
       "10193                           1.0                     0.0   \n",
       "18789                           1.0                     0.0   \n",
       "\n",
       "       native_country_Yugoslavia  \n",
       "2093                         0.0  \n",
       "29473                        0.0  \n",
       "14123                        0.0  \n",
       "10193                        0.0  \n",
       "18789                        0.0  \n",
       "\n",
       "[5 rows x 105 columns]"
      ]
     },
     "execution_count": 42,
     "metadata": {},
     "output_type": "execute_result"
    }
   ],
   "source": [
    "# transform testing data\n",
    "X_test_prepared = pd.DataFrame(\n",
    "    feature_pipe.transform(X_test),\n",
    "    index=X_test.index,\n",
    "    columns=num_cols + [col+ '_' + level.strip()\n",
    "                          for col, cat in zip(cat_cols, cat_pipe.named_steps['OneHotEncoder'].categories_)\n",
    "                          for level in cat])\n",
    "X_test_prepared.head()"
   ]
  },
  {
   "cell_type": "markdown",
   "metadata": {},
   "source": [
    "**ENCODE TARGET VARIABLE**\n",
    "\n",
    "The final step is to encode the target variable `income` to be numeric. For this, we'll use `LabelEncoder` from sklearn.preprocessing."
   ]
  },
  {
   "cell_type": "code",
   "execution_count": 43,
   "metadata": {},
   "outputs": [
    {
     "data": {
      "text/plain": [
       "10348     <=50K\n",
       "11062     <=50K\n",
       "25734     <=50K\n",
       "401       <=50K\n",
       "28063      >50K\n",
       "Name: income, dtype: object"
      ]
     },
     "execution_count": 43,
     "metadata": {},
     "output_type": "execute_result"
    }
   ],
   "source": [
    "y_train[:5]"
   ]
  },
  {
   "cell_type": "markdown",
   "metadata": {},
   "source": [
    "**Challenge**: Use `LabelEncoder` to transform `y_train` so that \"<50k\" is 0 and \">=50k\" is 1."
   ]
  },
  {
   "cell_type": "code",
   "execution_count": 44,
   "metadata": {},
   "outputs": [],
   "source": [
    "from sklearn.preprocessing import LabelEncoder"
   ]
  },
  {
   "cell_type": "code",
   "execution_count": 45,
   "metadata": {},
   "outputs": [
    {
     "data": {
      "text/plain": [
       "10348    0\n",
       "11062    0\n",
       "25734    0\n",
       "401      0\n",
       "28063    1\n",
       "dtype: int64"
      ]
     },
     "execution_count": 45,
     "metadata": {},
     "output_type": "execute_result"
    }
   ],
   "source": [
    "# fit and transform y_train\n",
    "le = LabelEncoder()\n",
    "y_train_encoded = pd.Series(le.fit_transform(y_train), index=y_train.index)\n",
    "y_train_encoded[:5]"
   ]
  },
  {
   "cell_type": "markdown",
   "metadata": {},
   "source": [
    "Transform the test set:"
   ]
  },
  {
   "cell_type": "code",
   "execution_count": 46,
   "metadata": {},
   "outputs": [
    {
     "data": {
      "text/plain": [
       "2093     1\n",
       "29473    0\n",
       "14123    0\n",
       "10193    0\n",
       "18789    0\n",
       "dtype: int64"
      ]
     },
     "execution_count": 46,
     "metadata": {},
     "output_type": "execute_result"
    }
   ],
   "source": [
    "# transform ONLY: y_test\n",
    "y_test_encoded = pd.Series(le.transform(y_test), index=y_test.index)\n",
    "y_test_encoded[:5]"
   ]
  },
  {
   "cell_type": "markdown",
   "metadata": {},
   "source": [
    "[Back to Top](#top)"
   ]
  },
  {
   "cell_type": "markdown",
   "metadata": {},
   "source": [
    "<a id=\"modeling\"></a>\n",
    "# Model Building\n",
    "---\n",
    "\n",
    "Now that our data is ready, we can move on to modeling."
   ]
  },
  {
   "cell_type": "markdown",
   "metadata": {},
   "source": [
    "**Challenge**: What is the first step of the modeling process?"
   ]
  },
  {
   "cell_type": "markdown",
   "metadata": {},
   "source": [
    "ANSWER: Calculate the baseline."
   ]
  },
  {
   "cell_type": "code",
   "execution_count": 47,
   "metadata": {},
   "outputs": [
    {
     "data": {
      "text/plain": [
       "0.7592384072064694"
      ]
     },
     "execution_count": 47,
     "metadata": {},
     "output_type": "execute_result"
    }
   ],
   "source": [
    "y_test_encoded.value_counts()[0] / y_test_encoded.value_counts().sum()"
   ]
  },
  {
   "cell_type": "markdown",
   "metadata": {},
   "source": [
    "The most simple model possible is using the majority class (under \\$50k) as the prediction for every value.\n",
    "\n",
    "We would achieve 76\\% accuracy if we did this. All future models must beat this baseline."
   ]
  },
  {
   "cell_type": "code",
   "execution_count": 48,
   "metadata": {},
   "outputs": [],
   "source": [
    "from sklearn.ensemble import GradientBoostingClassifier\n",
    "from sklearn.model_selection import GridSearchCV, RandomizedSearchCV"
   ]
  },
  {
   "cell_type": "code",
   "execution_count": 49,
   "metadata": {},
   "outputs": [],
   "source": [
    "feature_pipe2 = Pipeline([\n",
    "    ('feat_union', feat_union),\n",
    "    ('gbt', GradientBoostingClassifier())\n",
    "])"
   ]
  },
  {
   "cell_type": "code",
   "execution_count": 50,
   "metadata": {},
   "outputs": [
    {
     "data": {
      "text/plain": [
       "Pipeline(memory=None,\n",
       "     steps=[('feat_union', FeatureUnion(n_jobs=None,\n",
       "       transformer_list=[('num_pipe', Pipeline(memory=None,\n",
       "     steps=[('numeric_transformer', FunctionTransformer(accept_sparse=False, check_inverse=True,\n",
       "          func=<function numeric_extractor at 0x1a19ace1e0>,\n",
       "          inv_kw_args=None, invers...    subsample=1.0, tol=0.0001, validation_fraction=0.1,\n",
       "              verbose=0, warm_start=False))])"
      ]
     },
     "execution_count": 50,
     "metadata": {},
     "output_type": "execute_result"
    }
   ],
   "source": [
    "feature_pipe2.fit(X_train, y_train_encoded)"
   ]
  },
  {
   "cell_type": "code",
   "execution_count": 51,
   "metadata": {},
   "outputs": [
    {
     "data": {
      "text/plain": [
       "array([1, 0, 0, ..., 0, 0, 0])"
      ]
     },
     "execution_count": 51,
     "metadata": {},
     "output_type": "execute_result"
    }
   ],
   "source": [
    "feature_pipe2.predict(X_test)"
   ]
  },
  {
   "cell_type": "code",
   "execution_count": 52,
   "metadata": {},
   "outputs": [],
   "source": [
    "params = {\n",
    "    'feat_union__num_pipe__num_im__strategy': ['mean', 'median'],\n",
    "    'gbt__n_estimators': [5, 50, 100],\n",
    "    'gbt__learning_rate': np.linspace(0.01, 0.3, 3),\n",
    "    'gbt__min_samples_leaf': [1,3,5],\n",
    "}"
   ]
  },
  {
   "cell_type": "code",
   "execution_count": 53,
   "metadata": {},
   "outputs": [],
   "source": [
    "rs = RandomizedSearchCV(feature_pipe2, param_distributions=params, cv=3, verbose=2)"
   ]
  },
  {
   "cell_type": "code",
   "execution_count": 54,
   "metadata": {},
   "outputs": [
    {
     "name": "stdout",
     "output_type": "stream",
     "text": [
      "Fitting 3 folds for each of 10 candidates, totalling 30 fits\n",
      "[CV] gbt__n_estimators=50, gbt__min_samples_leaf=5, gbt__learning_rate=0.155, feat_union__num_pipe__num_im__strategy=median \n"
     ]
    },
    {
     "name": "stderr",
     "output_type": "stream",
     "text": [
      "[Parallel(n_jobs=1)]: Using backend SequentialBackend with 1 concurrent workers.\n"
     ]
    },
    {
     "name": "stdout",
     "output_type": "stream",
     "text": [
      "[CV]  gbt__n_estimators=50, gbt__min_samples_leaf=5, gbt__learning_rate=0.155, feat_union__num_pipe__num_im__strategy=median, total=   3.0s\n",
      "[CV] gbt__n_estimators=50, gbt__min_samples_leaf=5, gbt__learning_rate=0.155, feat_union__num_pipe__num_im__strategy=median \n"
     ]
    },
    {
     "name": "stderr",
     "output_type": "stream",
     "text": [
      "[Parallel(n_jobs=1)]: Done   1 out of   1 | elapsed:    3.1s remaining:    0.0s\n"
     ]
    },
    {
     "name": "stdout",
     "output_type": "stream",
     "text": [
      "[CV]  gbt__n_estimators=50, gbt__min_samples_leaf=5, gbt__learning_rate=0.155, feat_union__num_pipe__num_im__strategy=median, total=   3.2s\n",
      "[CV] gbt__n_estimators=50, gbt__min_samples_leaf=5, gbt__learning_rate=0.155, feat_union__num_pipe__num_im__strategy=median \n",
      "[CV]  gbt__n_estimators=50, gbt__min_samples_leaf=5, gbt__learning_rate=0.155, feat_union__num_pipe__num_im__strategy=median, total=   3.1s\n",
      "[CV] gbt__n_estimators=100, gbt__min_samples_leaf=5, gbt__learning_rate=0.155, feat_union__num_pipe__num_im__strategy=median \n",
      "[CV]  gbt__n_estimators=100, gbt__min_samples_leaf=5, gbt__learning_rate=0.155, feat_union__num_pipe__num_im__strategy=median, total=   4.6s\n",
      "[CV] gbt__n_estimators=100, gbt__min_samples_leaf=5, gbt__learning_rate=0.155, feat_union__num_pipe__num_im__strategy=median \n",
      "[CV]  gbt__n_estimators=100, gbt__min_samples_leaf=5, gbt__learning_rate=0.155, feat_union__num_pipe__num_im__strategy=median, total=   4.6s\n",
      "[CV] gbt__n_estimators=100, gbt__min_samples_leaf=5, gbt__learning_rate=0.155, feat_union__num_pipe__num_im__strategy=median \n",
      "[CV]  gbt__n_estimators=100, gbt__min_samples_leaf=5, gbt__learning_rate=0.155, feat_union__num_pipe__num_im__strategy=median, total=   5.0s\n",
      "[CV] gbt__n_estimators=50, gbt__min_samples_leaf=1, gbt__learning_rate=0.01, feat_union__num_pipe__num_im__strategy=mean \n",
      "[CV]  gbt__n_estimators=50, gbt__min_samples_leaf=1, gbt__learning_rate=0.01, feat_union__num_pipe__num_im__strategy=mean, total=   3.0s\n",
      "[CV] gbt__n_estimators=50, gbt__min_samples_leaf=1, gbt__learning_rate=0.01, feat_union__num_pipe__num_im__strategy=mean \n",
      "[CV]  gbt__n_estimators=50, gbt__min_samples_leaf=1, gbt__learning_rate=0.01, feat_union__num_pipe__num_im__strategy=mean, total=   3.1s\n",
      "[CV] gbt__n_estimators=50, gbt__min_samples_leaf=1, gbt__learning_rate=0.01, feat_union__num_pipe__num_im__strategy=mean \n",
      "[CV]  gbt__n_estimators=50, gbt__min_samples_leaf=1, gbt__learning_rate=0.01, feat_union__num_pipe__num_im__strategy=mean, total=   2.9s\n",
      "[CV] gbt__n_estimators=5, gbt__min_samples_leaf=1, gbt__learning_rate=0.01, feat_union__num_pipe__num_im__strategy=mean \n",
      "[CV]  gbt__n_estimators=5, gbt__min_samples_leaf=1, gbt__learning_rate=0.01, feat_union__num_pipe__num_im__strategy=mean, total=   0.7s\n",
      "[CV] gbt__n_estimators=5, gbt__min_samples_leaf=1, gbt__learning_rate=0.01, feat_union__num_pipe__num_im__strategy=mean \n",
      "[CV]  gbt__n_estimators=5, gbt__min_samples_leaf=1, gbt__learning_rate=0.01, feat_union__num_pipe__num_im__strategy=mean, total=   0.7s\n",
      "[CV] gbt__n_estimators=5, gbt__min_samples_leaf=1, gbt__learning_rate=0.01, feat_union__num_pipe__num_im__strategy=mean \n",
      "[CV]  gbt__n_estimators=5, gbt__min_samples_leaf=1, gbt__learning_rate=0.01, feat_union__num_pipe__num_im__strategy=mean, total=   0.7s\n",
      "[CV] gbt__n_estimators=50, gbt__min_samples_leaf=1, gbt__learning_rate=0.01, feat_union__num_pipe__num_im__strategy=median \n",
      "[CV]  gbt__n_estimators=50, gbt__min_samples_leaf=1, gbt__learning_rate=0.01, feat_union__num_pipe__num_im__strategy=median, total=   2.9s\n",
      "[CV] gbt__n_estimators=50, gbt__min_samples_leaf=1, gbt__learning_rate=0.01, feat_union__num_pipe__num_im__strategy=median \n",
      "[CV]  gbt__n_estimators=50, gbt__min_samples_leaf=1, gbt__learning_rate=0.01, feat_union__num_pipe__num_im__strategy=median, total=   2.9s\n",
      "[CV] gbt__n_estimators=50, gbt__min_samples_leaf=1, gbt__learning_rate=0.01, feat_union__num_pipe__num_im__strategy=median \n",
      "[CV]  gbt__n_estimators=50, gbt__min_samples_leaf=1, gbt__learning_rate=0.01, feat_union__num_pipe__num_im__strategy=median, total=   2.9s\n",
      "[CV] gbt__n_estimators=5, gbt__min_samples_leaf=3, gbt__learning_rate=0.155, feat_union__num_pipe__num_im__strategy=mean \n",
      "[CV]  gbt__n_estimators=5, gbt__min_samples_leaf=3, gbt__learning_rate=0.155, feat_union__num_pipe__num_im__strategy=mean, total=   0.7s\n",
      "[CV] gbt__n_estimators=5, gbt__min_samples_leaf=3, gbt__learning_rate=0.155, feat_union__num_pipe__num_im__strategy=mean \n",
      "[CV]  gbt__n_estimators=5, gbt__min_samples_leaf=3, gbt__learning_rate=0.155, feat_union__num_pipe__num_im__strategy=mean, total=   0.7s\n",
      "[CV] gbt__n_estimators=5, gbt__min_samples_leaf=3, gbt__learning_rate=0.155, feat_union__num_pipe__num_im__strategy=mean \n",
      "[CV]  gbt__n_estimators=5, gbt__min_samples_leaf=3, gbt__learning_rate=0.155, feat_union__num_pipe__num_im__strategy=mean, total=   0.7s\n",
      "[CV] gbt__n_estimators=5, gbt__min_samples_leaf=1, gbt__learning_rate=0.01, feat_union__num_pipe__num_im__strategy=median \n",
      "[CV]  gbt__n_estimators=5, gbt__min_samples_leaf=1, gbt__learning_rate=0.01, feat_union__num_pipe__num_im__strategy=median, total=   0.7s\n",
      "[CV] gbt__n_estimators=5, gbt__min_samples_leaf=1, gbt__learning_rate=0.01, feat_union__num_pipe__num_im__strategy=median \n",
      "[CV]  gbt__n_estimators=5, gbt__min_samples_leaf=1, gbt__learning_rate=0.01, feat_union__num_pipe__num_im__strategy=median, total=   0.8s\n",
      "[CV] gbt__n_estimators=5, gbt__min_samples_leaf=1, gbt__learning_rate=0.01, feat_union__num_pipe__num_im__strategy=median \n",
      "[CV]  gbt__n_estimators=5, gbt__min_samples_leaf=1, gbt__learning_rate=0.01, feat_union__num_pipe__num_im__strategy=median, total=   0.8s\n",
      "[CV] gbt__n_estimators=50, gbt__min_samples_leaf=3, gbt__learning_rate=0.155, feat_union__num_pipe__num_im__strategy=mean \n",
      "[CV]  gbt__n_estimators=50, gbt__min_samples_leaf=3, gbt__learning_rate=0.155, feat_union__num_pipe__num_im__strategy=mean, total=   2.9s\n",
      "[CV] gbt__n_estimators=50, gbt__min_samples_leaf=3, gbt__learning_rate=0.155, feat_union__num_pipe__num_im__strategy=mean \n",
      "[CV]  gbt__n_estimators=50, gbt__min_samples_leaf=3, gbt__learning_rate=0.155, feat_union__num_pipe__num_im__strategy=mean, total=   2.8s\n",
      "[CV] gbt__n_estimators=50, gbt__min_samples_leaf=3, gbt__learning_rate=0.155, feat_union__num_pipe__num_im__strategy=mean \n",
      "[CV]  gbt__n_estimators=50, gbt__min_samples_leaf=3, gbt__learning_rate=0.155, feat_union__num_pipe__num_im__strategy=mean, total=   2.8s\n",
      "[CV] gbt__n_estimators=5, gbt__min_samples_leaf=5, gbt__learning_rate=0.01, feat_union__num_pipe__num_im__strategy=mean \n",
      "[CV]  gbt__n_estimators=5, gbt__min_samples_leaf=5, gbt__learning_rate=0.01, feat_union__num_pipe__num_im__strategy=mean, total=   0.9s\n",
      "[CV] gbt__n_estimators=5, gbt__min_samples_leaf=5, gbt__learning_rate=0.01, feat_union__num_pipe__num_im__strategy=mean \n",
      "[CV]  gbt__n_estimators=5, gbt__min_samples_leaf=5, gbt__learning_rate=0.01, feat_union__num_pipe__num_im__strategy=mean, total=   0.8s\n",
      "[CV] gbt__n_estimators=5, gbt__min_samples_leaf=5, gbt__learning_rate=0.01, feat_union__num_pipe__num_im__strategy=mean \n",
      "[CV]  gbt__n_estimators=5, gbt__min_samples_leaf=5, gbt__learning_rate=0.01, feat_union__num_pipe__num_im__strategy=mean, total=   0.9s\n",
      "[CV] gbt__n_estimators=50, gbt__min_samples_leaf=3, gbt__learning_rate=0.3, feat_union__num_pipe__num_im__strategy=median \n",
      "[CV]  gbt__n_estimators=50, gbt__min_samples_leaf=3, gbt__learning_rate=0.3, feat_union__num_pipe__num_im__strategy=median, total=   3.2s\n",
      "[CV] gbt__n_estimators=50, gbt__min_samples_leaf=3, gbt__learning_rate=0.3, feat_union__num_pipe__num_im__strategy=median \n",
      "[CV]  gbt__n_estimators=50, gbt__min_samples_leaf=3, gbt__learning_rate=0.3, feat_union__num_pipe__num_im__strategy=median, total=   2.9s\n",
      "[CV] gbt__n_estimators=50, gbt__min_samples_leaf=3, gbt__learning_rate=0.3, feat_union__num_pipe__num_im__strategy=median \n",
      "[CV]  gbt__n_estimators=50, gbt__min_samples_leaf=3, gbt__learning_rate=0.3, feat_union__num_pipe__num_im__strategy=median, total=   2.8s\n"
     ]
    },
    {
     "name": "stderr",
     "output_type": "stream",
     "text": [
      "[Parallel(n_jobs=1)]: Done  30 out of  30 | elapsed:  1.2min finished\n"
     ]
    },
    {
     "data": {
      "text/plain": [
       "RandomizedSearchCV(cv=3, error_score='raise-deprecating',\n",
       "          estimator=Pipeline(memory=None,\n",
       "     steps=[('feat_union', FeatureUnion(n_jobs=None,\n",
       "       transformer_list=[('num_pipe', Pipeline(memory=None,\n",
       "     steps=[('numeric_transformer', FunctionTransformer(accept_sparse=False, check_inverse=True,\n",
       "          func=<function numeric_extractor at 0x1a19ace1e0>,\n",
       "          inv_kw_args=None, invers...    subsample=1.0, tol=0.0001, validation_fraction=0.1,\n",
       "              verbose=0, warm_start=False))]),\n",
       "          fit_params=None, iid='warn', n_iter=10, n_jobs=None,\n",
       "          param_distributions={'feat_union__num_pipe__num_im__strategy': ['mean', 'median'], 'gbt__n_estimators': [5, 50, 100], 'gbt__learning_rate': array([0.01 , 0.155, 0.3  ]), 'gbt__min_samples_leaf': [1, 3, 5]},\n",
       "          pre_dispatch='2*n_jobs', random_state=None, refit=True,\n",
       "          return_train_score='warn', scoring=None, verbose=2)"
      ]
     },
     "execution_count": 54,
     "metadata": {},
     "output_type": "execute_result"
    }
   ],
   "source": [
    "rs.fit(X_train, y_train)"
   ]
  },
  {
   "cell_type": "code",
   "execution_count": null,
   "metadata": {},
   "outputs": [],
   "source": []
  },
  {
   "cell_type": "code",
   "execution_count": null,
   "metadata": {},
   "outputs": [],
   "source": []
  }
 ],
 "metadata": {
  "kernelspec": {
   "display_name": "Python3",
   "language": "python",
   "name": "python3"
  },
  "language_info": {
   "codemirror_mode": {
    "name": "ipython",
    "version": 3
   },
   "file_extension": ".py",
   "mimetype": "text/x-python",
   "name": "python",
   "nbconvert_exporter": "python",
   "pygments_lexer": "ipython3",
   "version": "3.6.7"
  }
 },
 "nbformat": 4,
 "nbformat_minor": 2
}
